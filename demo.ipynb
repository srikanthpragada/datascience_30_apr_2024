{
 "cells": [
  {
   "cell_type": "code",
   "execution_count": 26,
   "id": "ebe66433-5928-43c4-ac14-da12082dc2f7",
   "metadata": {
    "tags": []
   },
   "outputs": [
    {
     "name": "stdout",
     "output_type": "stream",
     "text": [
      "Hello\n"
     ]
    }
   ],
   "source": [
    "print('Hello')"
   ]
  },
  {
   "cell_type": "code",
   "execution_count": 27,
   "id": "eeaadf4e-f564-4aa7-ae63-f317e0813662",
   "metadata": {
    "tags": []
   },
   "outputs": [
    {
     "name": "stdout",
     "output_type": "stream",
     "text": [
      "0\n",
      "1\n",
      "2\n",
      "3\n",
      "4\n",
      "5\n",
      "6\n",
      "7\n",
      "8\n",
      "9\n"
     ]
    }
   ],
   "source": [
    "for i in range(10):\n",
    "      print(i)"
   ]
  },
  {
   "cell_type": "raw",
   "id": "a54d9416-7b3d-450f-b312-57c0c0ed9952",
   "metadata": {},
   "source": [
    "This is RAW!!"
   ]
  },
  {
   "cell_type": "markdown",
   "id": "f1586a4e-6fb7-4046-a196-d5462a8ec950",
   "metadata": {},
   "source": [
    "# Markdown heading 1\n",
    "## Heading 2 "
   ]
  },
  {
   "cell_type": "markdown",
   "id": "e28587ab-161c-49ec-a2b3-28f77ad3edd6",
   "metadata": {},
   "source": [
    "<h1>Heading 1 </h1>"
   ]
  },
  {
   "cell_type": "code",
   "execution_count": 28,
   "id": "0edb8aed-b273-479a-85a5-659b84946a16",
   "metadata": {
    "tags": []
   },
   "outputs": [
    {
     "name": "stdout",
     "output_type": "stream",
     "text": [
      "Hi\n"
     ]
    }
   ],
   "source": [
    "print(\"Hi\")"
   ]
  },
  {
   "cell_type": "code",
   "execution_count": 29,
   "id": "028add23-15f8-4fc8-b78a-cae2e986b12a",
   "metadata": {
    "tags": []
   },
   "outputs": [
    {
     "name": "stdout",
     "output_type": "stream",
     "text": [
      "2024-05-02 20:51:39.828921\n"
     ]
    }
   ],
   "source": [
    "import datetime\n",
    "print(datetime.datetime.now())"
   ]
  },
  {
   "cell_type": "code",
   "execution_count": 40,
   "id": "265f5698-e0fe-498d-b4b5-8ca315e5165e",
   "metadata": {
    "tags": []
   },
   "outputs": [],
   "source": [
    "import datetime"
   ]
  },
  {
   "cell_type": "code",
   "execution_count": 41,
   "id": "6d645260-40be-4791-a583-7919c5e80a78",
   "metadata": {
    "tags": []
   },
   "outputs": [
    {
     "data": {
      "text/plain": [
       "datetime.datetime(2024, 5, 2, 20, 52, 31, 24337)"
      ]
     },
     "execution_count": 41,
     "metadata": {},
     "output_type": "execute_result"
    }
   ],
   "source": [
    "datetime.datetime.now()"
   ]
  },
  {
   "cell_type": "code",
   "execution_count": 42,
   "id": "25530f4c-9047-432b-99b1-335fa790f03c",
   "metadata": {
    "tags": []
   },
   "outputs": [
    {
     "data": {
      "text/plain": [
       "\u001b[1;31mSignature:\u001b[0m \u001b[0mdatetime\u001b[0m\u001b[1;33m.\u001b[0m\u001b[0mdatetime\u001b[0m\u001b[1;33m.\u001b[0m\u001b[0mnow\u001b[0m\u001b[1;33m(\u001b[0m\u001b[0mtz\u001b[0m\u001b[1;33m=\u001b[0m\u001b[1;32mNone\u001b[0m\u001b[1;33m)\u001b[0m\u001b[1;33m\u001b[0m\u001b[1;33m\u001b[0m\u001b[0m\n",
       "\u001b[1;31mDocstring:\u001b[0m\n",
       "Returns new datetime object representing current time local to tz.\n",
       "\n",
       "  tz\n",
       "    Timezone object.\n",
       "\n",
       "If no tz is specified, uses local timezone.\n",
       "\u001b[1;31mType:\u001b[0m      builtin_function_or_method"
      ]
     },
     "metadata": {},
     "output_type": "display_data"
    }
   ],
   "source": [
    "datetime.datetime.now?"
   ]
  },
  {
   "cell_type": "markdown",
   "id": "0673bd6b-2889-43ff-8c75-6f9c7e5977f1",
   "metadata": {
    "tags": []
   },
   "source": [
    "**Bold**\n",
    "*Italic*\n",
    "`Monospace`"
   ]
  },
  {
   "cell_type": "markdown",
   "id": "7b387605-a0a2-4e86-b851-b850d7143dcf",
   "metadata": {},
   "source": [
    "## Topics\n",
    "* Stats\n",
    "* Pandas\n",
    "* Plots\n",
    "    * Matplotlib\n",
    "    * Seaborn"
   ]
  },
  {
   "cell_type": "markdown",
   "id": "bee003d6-8517-40dc-8cc1-6176e2569cdd",
   "metadata": {},
   "source": [
    "1. One\n",
    "1. One"
   ]
  },
  {
   "cell_type": "code",
   "execution_count": 33,
   "id": "23b993b0-6d1d-499a-84db-7ebae3c28f50",
   "metadata": {
    "tags": []
   },
   "outputs": [
    {
     "data": {
      "text/plain": [
       "'D:\\\\classroom\\\\datascience'"
      ]
     },
     "execution_count": 33,
     "metadata": {},
     "output_type": "execute_result"
    }
   ],
   "source": [
    "%pwd"
   ]
  },
  {
   "cell_type": "code",
   "execution_count": 34,
   "id": "941b457c-1948-405e-842a-4e065ff50ac1",
   "metadata": {
    "tags": []
   },
   "outputs": [
    {
     "data": {
      "text/plain": [
       "[' Volume in drive D is Software',\n",
       " ' Volume Serial Number is FCE9-76E2',\n",
       " '',\n",
       " ' Directory of D:\\\\classroom\\\\datascience',\n",
       " '',\n",
       " '02-05-2024  20:50    <DIR>          .',\n",
       " '02-05-2024  20:50    <DIR>          ..',\n",
       " '02-05-2024  20:04    <DIR>          .ipynb_checkpoints',\n",
       " '02-05-2024  20:50             8,348 demo.ipynb',\n",
       " '               1 File(s)          8,348 bytes',\n",
       " '               3 Dir(s)  115,143,454,720 bytes free']"
      ]
     },
     "execution_count": 34,
     "metadata": {},
     "output_type": "execute_result"
    }
   ],
   "source": [
    "%system dir"
   ]
  },
  {
   "cell_type": "code",
   "execution_count": 35,
   "id": "87100610-a47b-4979-bd78-255af32c5b71",
   "metadata": {
    "tags": []
   },
   "outputs": [],
   "source": [
    "s = \"ML\""
   ]
  },
  {
   "cell_type": "code",
   "execution_count": 36,
   "id": "f7a247a9-2708-4908-a064-64781e38b845",
   "metadata": {
    "tags": []
   },
   "outputs": [
    {
     "name": "stdout",
     "output_type": "stream",
     "text": [
      "datetime\t i\t s\t \n"
     ]
    }
   ],
   "source": [
    "%who"
   ]
  },
  {
   "cell_type": "code",
   "execution_count": 37,
   "id": "b773f7d8-5755-4dcb-ba5b-95d8b079d6b2",
   "metadata": {
    "tags": []
   },
   "outputs": [
    {
     "name": "stdout",
     "output_type": "stream",
     "text": [
      "print('Hello')\n",
      "for i in range(10):\n",
      "      print(i)\n",
      "print(\"Hi\")\n",
      "print(\"Hi\")\n",
      "import datetime\n",
      "print(datetime.datetime.now())\n",
      "import datetime\n",
      "print(datetime.datetime.now())\n",
      "import datetime\n",
      "print(datetime.datetime.now())\n",
      "import datetime\n",
      "print(datetime.datetime.now())\n",
      "import datetime\n",
      "print(datetime.datetime.now())\n",
      "print(\"Hi\")\n",
      "import datetime\n",
      "print(datetime.datetime.now())\n",
      "import datetime\n",
      "datetime.datetime.now()\n",
      "datetime.datetime.now?\n",
      "datetime.datetime.now?\n",
      "datetime.datetime.strftime?\n",
      "#Heading\n",
      "%pwd\n",
      "%system dir\n",
      "%who\n",
      "s = \"ML\"\n",
      "%who\n",
      "%history\n",
      "%%html\n",
      "<h1>Heading1</h1>\n",
      "<a href=\"google.com\">Google</a>\n",
      "%%js\n",
      "alert(\"Hello\")\n",
      "print('Hello')\n",
      "for i in range(10):\n",
      "      print(i)\n",
      "print(\"Hi\")\n",
      "import datetime\n",
      "print(datetime.datetime.now())\n",
      "import datetime\n",
      "datetime.datetime.now()\n",
      "datetime.datetime.now?\n",
      "%pwd\n",
      "%system dir\n",
      "s = \"ML\"\n",
      "%who\n",
      "%history\n"
     ]
    }
   ],
   "source": [
    "%history"
   ]
  },
  {
   "cell_type": "code",
   "execution_count": 38,
   "id": "f9ce676f-4228-447a-80e6-13a8039d700c",
   "metadata": {
    "tags": []
   },
   "outputs": [
    {
     "data": {
      "text/html": [
       "<h1>Heading1</h1>\n",
       "<a href=\"google.com\">Google</a>\n"
      ],
      "text/plain": [
       "<IPython.core.display.HTML object>"
      ]
     },
     "metadata": {},
     "output_type": "display_data"
    }
   ],
   "source": [
    "%%html\n",
    "<h1>Heading1</h1>\n",
    "<a href=\"google.com\">Google</a>"
   ]
  },
  {
   "cell_type": "code",
   "execution_count": 39,
   "id": "1bdcb1c1-1ce6-4e80-a0cf-8dd11a0b5440",
   "metadata": {
    "tags": []
   },
   "outputs": [
    {
     "data": {
      "application/javascript": [
       "alert(\"Hello\")\n"
      ],
      "text/plain": [
       "<IPython.core.display.Javascript object>"
      ]
     },
     "metadata": {},
     "output_type": "display_data"
    }
   ],
   "source": [
    "%%js\n",
    "alert(\"Hello\")"
   ]
  },
  {
   "cell_type": "code",
   "execution_count": 43,
   "id": "7c0bf57e-c016-42e4-8aa7-d23eb2134c88",
   "metadata": {
    "tags": []
   },
   "outputs": [
    {
     "name": "stdout",
     "output_type": "stream",
     "text": [
      "Writing names.txt\n"
     ]
    }
   ],
   "source": [
    "%%writefile names.txt\n",
    "James\n",
    "Scott\n",
    "Bill\n",
    "Dave"
   ]
  },
  {
   "cell_type": "code",
   "execution_count": 44,
   "id": "3d614cd9-32a8-4b58-9484-62b20fdbc55a",
   "metadata": {
    "tags": []
   },
   "outputs": [
    {
     "data": {
      "text/plain": [
       "[' Volume in drive D is Software',\n",
       " ' Volume Serial Number is FCE9-76E2',\n",
       " '',\n",
       " ' Directory of D:\\\\classroom\\\\datascience',\n",
       " '',\n",
       " '02-05-2024  20:53    <DIR>          .',\n",
       " '02-05-2024  20:53    <DIR>          ..',\n",
       " '02-05-2024  20:04    <DIR>          .ipynb_checkpoints',\n",
       " '02-05-2024  20:52             9,250 demo.ipynb',\n",
       " '02-05-2024  20:53                26 names.txt',\n",
       " '               2 File(s)          9,276 bytes',\n",
       " '               3 Dir(s)  115,143,454,720 bytes free']"
      ]
     },
     "execution_count": 44,
     "metadata": {},
     "output_type": "execute_result"
    }
   ],
   "source": [
    "%system dir"
   ]
  },
  {
   "cell_type": "code",
   "execution_count": null,
   "id": "bbf905b7-890c-4ec9-a6b7-3082606e4c2b",
   "metadata": {},
   "outputs": [],
   "source": []
  }
 ],
 "metadata": {
  "kernelspec": {
   "display_name": "Python 3 (ipykernel)",
   "language": "python",
   "name": "python3"
  },
  "language_info": {
   "codemirror_mode": {
    "name": "ipython",
    "version": 3
   },
   "file_extension": ".py",
   "mimetype": "text/x-python",
   "name": "python",
   "nbconvert_exporter": "python",
   "pygments_lexer": "ipython3",
   "version": "3.11.5"
  }
 },
 "nbformat": 4,
 "nbformat_minor": 5
}
